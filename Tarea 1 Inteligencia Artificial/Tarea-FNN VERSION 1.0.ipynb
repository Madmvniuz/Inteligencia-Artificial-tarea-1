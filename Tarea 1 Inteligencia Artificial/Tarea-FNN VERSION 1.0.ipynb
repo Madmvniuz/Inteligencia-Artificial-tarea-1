{
 "cells": [
  {
   "cell_type": "markdown",
   "metadata": {},
   "source": [
    "# Tarea Redes Neuronales\n",
    "## Grupos de 3 personas\n",
    "### Entregas atrasadas pierden 1 punto por hora. Si alguien entrega a las 00:00:01 implica que pierde 1 punto en la nota final. Recomendación, entregue una versión inicial cerca de las 22 horas y luego suba las modificaciones.\n",
    "\n",
    "La NASA mantiene la información de varios cometas y quiere determinar alguna manera de predecir el diametro de un cometa. Específicamente, han analizado en forma manual una muestra de 100,000 asteroides. Los datos consisten en 26 variables, con distinta información como por ejemplo nombre del asteroide, su periodo orbital, su periodo de rotación, etc. Todos los datos existentes, se encuentran en un puro archivo llamado asteroidTrain.csv. Mientras que las descripciones de cada una de las variables se encuentran en el archivo tareaInformacion.txt\n",
    "\n",
    "Desafortunadamente, la NASA todavía no ha evaluado 37.681 asteroides y no tienen tiempo para realizarlo. Por lo mismo, le piden que aplique una red neuronal feed forward para obtener una predicción de estos asteroides.\n",
    "\n",
    "1. Lea los datos y borre las variables/asteroides que estime necesario. En caso que crea que la base de datos todavía es demasiado grande para aplicar una red neruonal, usted puede tomar una muestra de la misma. NOTA, justifique cada una de las decisiones tomadas, el puntaje principal se basa en las justificaciones. Una vez generado estos datos, guarde la base de datos final en un nuevo archivo csv (1.5 puntos).\n",
    "2. Entrene un modelo feed forward. Realice una busqueda de hiperparámetros incluyendo número de capas, número de  neuronas, funciones de activación, epocas, etc. Seleccione un modelo final (justificando a través de una evaluación correcta los hiperarametros seleccionados (2.5 puntos). NOTA, justifique cada una de las decisiones tomadas, el puntaje principal se basa en las justificaciones. \n",
    "3. Utilice el modelo seleccionado en el punto anterior y evalue los 37,681 asteroides que la NASA no ha evaluado. En este proceso genere un archivo csv de una sola columna con 37,681 filas donde cada celda tendrá el valor del cometa a predecir (2 puntos). Atención, si ustedes entrega un archivo con un número distinto de filas, de igual manera se evaluará las 37,681 filas.\n",
    "\n",
    "El punto de evaluación final será una competencia entre todas las tareas basados en los MSE más bajos y altos obtenido por cada grupo. El puntaje final será una regresión lineal entre un modelo muy básico y el mejor puntaje.\n",
    "\n",
    "Para esta entrega usted deberá entregar 4 archivos\n",
    "1. Un archivo ipynb que muestre todo el proceso de selección de variables y limpieza de datos aplicados. Además, deberá mostrar la búsqueda de hiperparametros. Este archivo ya deberá haber sido ejecutado y cuando se cargué uno debera ver todo el proceso de ejecución. \n",
    "2. Un nuevo archivo CSV que contenga la base de datos luego de la limpieza generada en el primer punto de la tarea.\n",
    "3. Un archivo ipynb limpio que simplemente cargue la nueva base de datos, entrene el modelo con los hiperparametros seleccionados y genere el archivo csv con las 37,681 estimaciones. Este archivo permitirá ver la replicabilidad de su archivo csv. \n",
    "4. Un archivo csv con las 37,681 estimaciones realizadas para el modelo."
   ]
  },
  {
   "cell_type": "code",
   "execution_count": 211,
   "metadata": {},
   "outputs": [],
   "source": [
    "import numpy as np\n",
    "import pandas as pd\n",
    "from plotnine import *\n",
    "import sklearn as sk\n",
    "import tensorflow as tf\n",
    "from sklearn.preprocessing import OneHotEncoder"
   ]
  },
  {
   "cell_type": "code",
   "execution_count": 212,
   "metadata": {},
   "outputs": [
    {
     "name": "stdout",
     "output_type": "stream",
     "text": [
      "              a         e          i          om           w         q  \\\n",
      "0      3.069866  0.184417   3.620920  308.458533  249.570070  2.503729   \n",
      "1      2.386539  0.104566  13.003513  105.866881  329.104052  2.136988   \n",
      "2      3.018175  0.084529  14.247933  245.449168  115.242451  2.763053   \n",
      "3      2.793049  0.290215  16.677722   17.862425  287.769691  1.982465   \n",
      "4      2.721394  0.098602   1.975506  271.706257  248.448520  2.453059   \n",
      "...         ...       ...        ...         ...         ...       ...   \n",
      "99995  3.161511  0.166092  28.442710  224.796987    2.422644  2.636410   \n",
      "99996  2.715932  0.239266  16.789523   34.531718   44.097353  2.066102   \n",
      "99997  3.188786  0.278970  15.177104  188.342499  255.934423  2.299209   \n",
      "99998  2.754535  0.106028   8.758664  230.483443   34.567890  2.462477   \n",
      "99999  3.940892  0.241022   9.495628  192.657992  197.808221  2.991051   \n",
      "\n",
      "             ad diameter     moid  neo_N  neo_Y  pha_N  pha_Y  \n",
      "0      3.636003    6.611  1.50522      1      0      1      0  \n",
      "1      2.636089    4.255  1.16197      1      0      1      0  \n",
      "2      3.273297    5.625  1.79743      1      0      1      0  \n",
      "3      3.603633    4.224  1.04034      1      0      1      0  \n",
      "4      2.989728    3.525  1.46299      1      0      1      0  \n",
      "...         ...      ...      ...    ...    ...    ...    ...  \n",
      "99995  3.686612    5.946  1.62746      1      0      1      0  \n",
      "99996  3.365761    4.724  1.11044      1      0      1      0  \n",
      "99997  4.078363    4.148  1.36906      1      0      1      0  \n",
      "99998  3.046593    2.749  1.45246      1      0      1      0  \n",
      "99999  4.890732   35.679  1.99740      1      0      1      0  \n",
      "\n",
      "[100000 rows x 13 columns]\n"
     ]
    },
    {
     "name": "stderr",
     "output_type": "stream",
     "text": [
      "C:\\Users\\maxho\\AppData\\Local\\Temp\\ipykernel_808\\519193104.py:2: DtypeWarning: Columns (14,15) have mixed types. Specify dtype option on import or set low_memory=False.\n"
     ]
    }
   ],
   "source": [
    "#importamos los set de datos de evaluacion y de entrenamiento\n",
    "train_data = pd.read_csv('asteroidTrain.csv') \n",
    "train_data = train_data.dropna(axis=1)\n",
    "#aplicamos onehotencoder a las variables categoricas\n",
    "neo_ohe = pd.get_dummies(train_data.neo,prefix = 'neo')\n",
    "pha_ohe = pd.get_dummies(train_data.pha,prefix = 'pha')\n",
    "#transformamos la data nuevamente\n",
    "train_data = pd.concat([train_data,neo_ohe,pha_ohe],axis=1)\n",
    "#eliminamos las columnas que no nos interesan\n",
    "#eliminamos las columnas de color\n",
    "train_data.drop(['n_obs_used','condition_code','neo','pha','per_y','full_name'], axis=1, inplace=True)\n",
    "\n",
    "#printeamos los primeros datos\n",
    "print(train_data)"
   ]
  },
  {
   "cell_type": "markdown",
   "metadata": {},
   "source": [
    "Al ser netamente variables numericas no hay que modificarlas en el sentido de que hay que hacer alguna trasnformacion a los datos."
   ]
  },
  {
   "cell_type": "markdown",
   "metadata": {},
   "source": [
    "**poner la justificacion"
   ]
  },
  {
   "cell_type": "code",
   "execution_count": 213,
   "metadata": {},
   "outputs": [
    {
     "name": "stderr",
     "output_type": "stream",
     "text": [
      "C:\\Users\\maxho\\AppData\\Local\\Packages\\PythonSoftwareFoundation.Python.3.10_qbz5n2kfra8p0\\LocalCache\\local-packages\\Python310\\site-packages\\sklearn\\neural_network\\_multilayer_perceptron.py:702: ConvergenceWarning: Stochastic Optimizer: Maximum iterations (50) reached and the optimization hasn't converged yet.\n"
     ]
    },
    {
     "data": {
      "text/html": [
       "<style>#sk-container-id-44 {color: black;background-color: white;}#sk-container-id-44 pre{padding: 0;}#sk-container-id-44 div.sk-toggleable {background-color: white;}#sk-container-id-44 label.sk-toggleable__label {cursor: pointer;display: block;width: 100%;margin-bottom: 0;padding: 0.3em;box-sizing: border-box;text-align: center;}#sk-container-id-44 label.sk-toggleable__label-arrow:before {content: \"▸\";float: left;margin-right: 0.25em;color: #696969;}#sk-container-id-44 label.sk-toggleable__label-arrow:hover:before {color: black;}#sk-container-id-44 div.sk-estimator:hover label.sk-toggleable__label-arrow:before {color: black;}#sk-container-id-44 div.sk-toggleable__content {max-height: 0;max-width: 0;overflow: hidden;text-align: left;background-color: #f0f8ff;}#sk-container-id-44 div.sk-toggleable__content pre {margin: 0.2em;color: black;border-radius: 0.25em;background-color: #f0f8ff;}#sk-container-id-44 input.sk-toggleable__control:checked~div.sk-toggleable__content {max-height: 200px;max-width: 100%;overflow: auto;}#sk-container-id-44 input.sk-toggleable__control:checked~label.sk-toggleable__label-arrow:before {content: \"▾\";}#sk-container-id-44 div.sk-estimator input.sk-toggleable__control:checked~label.sk-toggleable__label {background-color: #d4ebff;}#sk-container-id-44 div.sk-label input.sk-toggleable__control:checked~label.sk-toggleable__label {background-color: #d4ebff;}#sk-container-id-44 input.sk-hidden--visually {border: 0;clip: rect(1px 1px 1px 1px);clip: rect(1px, 1px, 1px, 1px);height: 1px;margin: -1px;overflow: hidden;padding: 0;position: absolute;width: 1px;}#sk-container-id-44 div.sk-estimator {font-family: monospace;background-color: #f0f8ff;border: 1px dotted black;border-radius: 0.25em;box-sizing: border-box;margin-bottom: 0.5em;}#sk-container-id-44 div.sk-estimator:hover {background-color: #d4ebff;}#sk-container-id-44 div.sk-parallel-item::after {content: \"\";width: 100%;border-bottom: 1px solid gray;flex-grow: 1;}#sk-container-id-44 div.sk-label:hover label.sk-toggleable__label {background-color: #d4ebff;}#sk-container-id-44 div.sk-serial::before {content: \"\";position: absolute;border-left: 1px solid gray;box-sizing: border-box;top: 0;bottom: 0;left: 50%;z-index: 0;}#sk-container-id-44 div.sk-serial {display: flex;flex-direction: column;align-items: center;background-color: white;padding-right: 0.2em;padding-left: 0.2em;position: relative;}#sk-container-id-44 div.sk-item {position: relative;z-index: 1;}#sk-container-id-44 div.sk-parallel {display: flex;align-items: stretch;justify-content: center;background-color: white;position: relative;}#sk-container-id-44 div.sk-item::before, #sk-container-id-44 div.sk-parallel-item::before {content: \"\";position: absolute;border-left: 1px solid gray;box-sizing: border-box;top: 0;bottom: 0;left: 50%;z-index: -1;}#sk-container-id-44 div.sk-parallel-item {display: flex;flex-direction: column;z-index: 1;position: relative;background-color: white;}#sk-container-id-44 div.sk-parallel-item:first-child::after {align-self: flex-end;width: 50%;}#sk-container-id-44 div.sk-parallel-item:last-child::after {align-self: flex-start;width: 50%;}#sk-container-id-44 div.sk-parallel-item:only-child::after {width: 0;}#sk-container-id-44 div.sk-dashed-wrapped {border: 1px dashed gray;margin: 0 0.4em 0.5em 0.4em;box-sizing: border-box;padding-bottom: 0.4em;background-color: white;}#sk-container-id-44 div.sk-label label {font-family: monospace;font-weight: bold;display: inline-block;line-height: 1.2em;}#sk-container-id-44 div.sk-label-container {text-align: center;}#sk-container-id-44 div.sk-container {/* jupyter's `normalize.less` sets `[hidden] { display: none; }` but bootstrap.min.css set `[hidden] { display: none !important; }` so we also need the `!important` here to be able to override the default hidden behavior on the sphinx rendered scikit-learn.org. See: https://github.com/scikit-learn/scikit-learn/issues/21755 */display: inline-block !important;position: relative;}#sk-container-id-44 div.sk-text-repr-fallback {display: none;}</style><div id=\"sk-container-id-44\" class=\"sk-top-container\"><div class=\"sk-text-repr-fallback\"><pre>MLPRegressor(hidden_layer_sizes=(10,), max_iter=50)</pre><b>In a Jupyter environment, please rerun this cell to show the HTML representation or trust the notebook. <br />On GitHub, the HTML representation is unable to render, please try loading this page with nbviewer.org.</b></div><div class=\"sk-container\" hidden><div class=\"sk-item\"><div class=\"sk-estimator sk-toggleable\"><input class=\"sk-toggleable__control sk-hidden--visually\" id=\"sk-estimator-id-44\" type=\"checkbox\" checked><label for=\"sk-estimator-id-44\" class=\"sk-toggleable__label sk-toggleable__label-arrow\">MLPRegressor</label><div class=\"sk-toggleable__content\"><pre>MLPRegressor(hidden_layer_sizes=(10,), max_iter=50)</pre></div></div></div></div></div>"
      ],
      "text/plain": [
       "MLPRegressor(hidden_layer_sizes=(10,), max_iter=50)"
      ]
     },
     "execution_count": 213,
     "metadata": {},
     "output_type": "execute_result"
    }
   ],
   "source": [
    "#Creando y entrenando un modelo\n",
    "from sklearn.neural_network import MLPRegressor\n",
    "#creamos el traindata sin la columna de diametro\n",
    "train_data_sin_diameter = train_data.drop(['diameter'], axis=1)\n",
    "#creamos el modelo\n",
    "modelo = MLPRegressor(hidden_layer_sizes=(10,),batch_size='auto',learning_rate_init=0.001,max_iter=50)\n",
    "#hacemos un fit a los datos de entrenamiento\n",
    "modelo.fit(train_data_sin_diameter, train_data['diameter'])\n"
   ]
  },
  {
   "cell_type": "code",
   "execution_count": 214,
   "metadata": {},
   "outputs": [
    {
     "name": "stdout",
     "output_type": "stream",
     "text": [
      "Función de activicación de salida identity\n",
      "Error de entrenamiento final: 37.045598367189484\n",
      "Mejor error de entrenamiento: 37.02304329728057\n"
     ]
    }
   ],
   "source": [
    "print(\"Función de activicación de salida\",modelo.out_activation_)\n",
    "#Error final del modelo (entrenamiento)\n",
    "print(\"Error de entrenamiento final:\",modelo.loss_)\n",
    "#Mejor error del modelo (entrenamiento)\n",
    "print(\"Mejor error de entrenamiento:\",modelo.best_loss_)"
   ]
  },
  {
   "cell_type": "code",
   "execution_count": 215,
   "metadata": {},
   "outputs": [
    {
     "data": {
      "image/png": "[encoded data removed]",
      "text/plain": [
       "<Figure size 640x480 with 1 Axes>"
      ]
     },
     "metadata": {},
     "output_type": "display_data"
    },
    {
     "data": {
      "text/plain": [
       "<ggplot: (168445617143)>"
      ]
     },
     "execution_count": 215,
     "metadata": {},
     "output_type": "execute_result"
    }
   ],
   "source": [
    "#Curva de aprendizaje\n",
    "tempDF=pd.DataFrame(modelo.loss_curve_,columns=[\"Error\"])\n",
    "tempDF[\"Epoca\"]=range(1,tempDF.shape[0]+1)\n",
    "ggplot(tempDF)+aes(x=\"Epoca\",y=\"Error\")+theme_bw()+geom_line()"
   ]
  },
  {
   "cell_type": "code",
   "execution_count": 216,
   "metadata": {},
   "outputs": [
    {
     "name": "stdout",
     "output_type": "stream",
     "text": [
      "              a         e          i          om           w         q  \\\n",
      "0      3.969733  0.082587   6.263280  159.529531  338.904665  3.641886   \n",
      "1      2.262880  0.096618  22.340191   52.502912   87.172523  2.044245   \n",
      "2      3.072270  0.103533   9.503231  217.293949  191.020252  2.754189   \n",
      "3      2.766916  0.208954  10.208236  161.123803  188.856431  2.188758   \n",
      "4      2.361788  0.259924   9.486384  100.768260  231.685109  1.747903   \n",
      "...         ...       ...        ...         ...         ...       ...   \n",
      "37676  3.948805  0.121336  12.100826  176.921861  253.018391  3.469671   \n",
      "37677  2.985065  0.085091   9.437864  165.845432   49.880238  2.731062   \n",
      "37678  2.250727  0.146572   4.952574  136.066108  218.906512  1.920834   \n",
      "37679  2.692312  0.182102  14.004905  177.379901   92.464686  2.202038   \n",
      "37680  2.976344  0.086984  12.570232   90.159809  275.399609  2.717450   \n",
      "\n",
      "             ad      moid  neo_N  neo_Y  pha_N  pha_Y  \n",
      "0      4.297579  2.656530      1      0      1      0  \n",
      "1      2.481515  1.174060      1      0      1      0  \n",
      "2      3.390352  1.763990      1      0      1      0  \n",
      "3      3.345075  1.182110      1      0      1      0  \n",
      "4      2.975672  0.753967      1      0      1      0  \n",
      "...         ...       ...    ...    ...    ...    ...  \n",
      "37676  4.427939  2.510560      1      0      1      0  \n",
      "37677  3.239067  1.737330      1      0      1      0  \n",
      "37678  2.580621  0.917571      1      0      1      0  \n",
      "37679  3.182587  1.240040      1      0      1      0  \n",
      "37680  3.235237  1.752340      1      0      1      0  \n",
      "\n",
      "[37681 rows x 12 columns]\n"
     ]
    },
    {
     "name": "stderr",
     "output_type": "stream",
     "text": [
      "C:\\Users\\maxho\\AppData\\Local\\Temp\\ipykernel_808\\3458253949.py:2: DtypeWarning: Columns (14) have mixed types. Specify dtype option on import or set low_memory=False.\n"
     ]
    }
   ],
   "source": [
    "#importamos los set de datos de evaluacion y de entrenamiento\n",
    "Eval_data = pd.read_csv('asteroidEval.csv') \n",
    "Eval_data = Eval_data.dropna(axis=1)\n",
    "#aplicamos onehotencoder a las variables categoricas\n",
    "neo_ohe1 = pd.get_dummies(Eval_data.neo,prefix = 'neo')\n",
    "pha_ohe1 = pd.get_dummies(Eval_data.pha,prefix = 'pha')\n",
    "#transformamos la data nuevamente\n",
    "Eval_data = pd.concat([Eval_data,neo_ohe1,pha_ohe1],axis=1)\n",
    "Eval_data.drop(['n_obs_used','condition_code','neo','pha','per_y','full_name'], axis=1, inplace=True)\n",
    "\n",
    "#printeamos los primeros datos\n",
    "print(Eval_data)"
   ]
  },
  {
   "cell_type": "code",
   "execution_count": 219,
   "metadata": {},
   "outputs": [
    {
     "name": "stdout",
     "output_type": "stream",
     "text": [
      "[6.1773406  2.39894309 7.35636672 ... 5.59576747 5.85971435 9.52879431]\n"
     ]
    }
   ],
   "source": [
    "#ocupamos el modelo para predecir el diametro de un asteroide\n",
    "print(modelo.predict(train_data_sin_diameter))\n",
    "X = modelo.predict(Eval_data)\n",
    "#cree un csv de una sola columna con la variable X\n",
    "X = pd.DataFrame(X)\n",
    "X.to_csv('X.csv', index=False, header=False)\n",
    "\n"
   ]
  }
 ],
 "metadata": {
  "kernelspec": {
   "display_name": "Python 3.10.5 64-bit (windows store)",
   "language": "python",
   "name": "python3"
  },
  "language_info": {
   "codemirror_mode": {
    "name": "ipython",
    "version": 3
   },
   "file_extension": ".py",
   "mimetype": "text/x-python",
   "name": "python",
   "nbconvert_exporter": "python",
   "pygments_lexer": "ipython3",
   "version": "3.10.5"
  },
  "vscode": {
   "interpreter": {
    "hash": "ce9167334efd97c5211d8924556d23bacc4aa06d7638842b4b7313cc4f840c3a"
   }
  }
 },
 "nbformat": 4,
 "nbformat_minor": 4
}
