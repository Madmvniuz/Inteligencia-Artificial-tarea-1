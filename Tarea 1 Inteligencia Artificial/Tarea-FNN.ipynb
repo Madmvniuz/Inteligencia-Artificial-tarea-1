{
 "cells": [
  {
   "cell_type": "markdown",
   "metadata": {},
   "source": [
    "# Tarea Redes Neuronales\n",
    "## Grupos de 3 personas\n",
    "### Entregas atrasadas pierden 1 punto por hora. Si alguien entrega a las 00:00:01 implica que pierde 1 punto en la nota final. Recomendación, entregue una versión inicial cerca de las 22 horas y luego suba las modificaciones.\n",
    "\n",
    "La NASA mantiene la información de varios cometas y quiere determinar alguna manera de predecir el diametro de un cometa. Específicamente, han analizado en forma manual una muestra de 100,000 asteroides. Los datos consisten en 26 variables, con distinta información como por ejemplo nombre del asteroide, su periodo orbital, su periodo de rotación, etc. Todos los datos existentes, se encuentran en un puro archivo llamado asteroidTrain.csv. Mientras que las descripciones de cada una de las variables se encuentran en el archivo tareaInformacion.txt\n",
    "\n",
    "Desafortunadamente, la NASA todavía no ha evaluado 37.681 asteroides y no tienen tiempo para realizarlo. Por lo mismo, le piden que aplique una red neuronal feed forward para obtener una predicción de estos asteroides.\n",
    "\n",
    "1. Lea los datos y borre las variables/asteroides que estime necesario. En caso que crea que la base de datos todavía es demasiado grande para aplicar una red neruonal, usted puede tomar una muestra de la misma. NOTA, justifique cada una de las decisiones tomadas, el puntaje principal se basa en las justificaciones. Una vez generado estos datos, guarde la base de datos final en un nuevo archivo csv (1.5 puntos).\n",
    "2. Entrene un modelo feed forward. Realice una busqueda de hiperparámetros incluyendo número de capas, número de  neuronas, funciones de activación, epocas, etc. Seleccione un modelo final (justificando a través de una evaluación correcta los hiperarametros seleccionados (2.5 puntos). NOTA, justifique cada una de las decisiones tomadas, el puntaje principal se basa en las justificaciones. \n",
    "3. Utilice el modelo seleccionado en el punto anterior y evalue los 37,681 asteroides que la NASA no ha evaluado. En este proceso genere un archivo csv de una sola columna con 37,681 filas donde cada celda tendrá el valor del cometa a predecir (2 puntos). Atención, si ustedes entrega un archivo con un número distinto de filas, de igual manera se evaluará las 37,681 filas.\n",
    "\n",
    "El punto de evaluación final será una competencia entre todas las tareas basados en los MSE más bajos y altos obtenido por cada grupo. El puntaje final será una regresión lineal entre un modelo muy básico y el mejor puntaje.\n",
    "\n",
    "Para esta entrega usted deberá entregar 4 archivos\n",
    "1. Un archivo ipynb que muestre todo el proceso de selección de variables y limpieza de datos aplicados. Además, deberá mostrar la búsqueda de hiperparametros. Este archivo ya deberá haber sido ejecutado y cuando se cargué uno debera ver todo el proceso de ejecución. \n",
    "2. Un nuevo archivo CSV que contenga la base de datos luego de la limpieza generada en el primer punto de la tarea.\n",
    "3. Un archivo ipynb limpio que simplemente cargue la nueva base de datos, entrene el modelo con los hiperparametros seleccionados y genere el archivo csv con las 37,681 estimaciones. Este archivo permitirá ver la replicabilidad de su archivo csv. \n",
    "4. Un archivo csv con las 37,681 estimaciones realizadas para el modelo."
   ]
  },
  {
   "cell_type": "code",
   "execution_count": 27,
   "metadata": {},
   "outputs": [],
   "source": [
    "import numpy as np\n",
    "import pandas as pd\n",
    "from plotnine import *\n",
    "import sklearn as sk\n",
    "import tensorflow as tf\n",
    "from sklearn.preprocessing import OneHotEncoder"
   ]
  },
  {
   "cell_type": "code",
   "execution_count": 43,
   "metadata": {},
   "outputs": [
    {
     "name": "stdout",
     "output_type": "stream",
     "text": [
      "<class 'pandas.core.frame.DataFrame'>\n",
      "RangeIndex: 100000 entries, 0 to 99999\n",
      "Data columns (total 27 columns):\n",
      " #   Column          Non-Null Count   Dtype  \n",
      "---  ------          --------------   -----  \n",
      " 0   full_name       100000 non-null  object \n",
      " 1   a               100000 non-null  float64\n",
      " 2   e               100000 non-null  float64\n",
      " 3   G               80 non-null      float64\n",
      " 4   i               100000 non-null  float64\n",
      " 5   om              100000 non-null  float64\n",
      " 6   w               100000 non-null  float64\n",
      " 7   q               100000 non-null  float64\n",
      " 8   ad              100000 non-null  float64\n",
      " 9   per_y           100000 non-null  float64\n",
      " 10  data_arc        99907 non-null   float64\n",
      " 11  condition_code  100000 non-null  float64\n",
      " 12  n_obs_used      100000 non-null  int64  \n",
      " 13  H               99459 non-null   float64\n",
      " 14  diameter        100000 non-null  object \n",
      " 15  extent          10 non-null      object \n",
      " 16  albedo          99122 non-null   float64\n",
      " 17  rot_per         8065 non-null    float64\n",
      " 18  GM              9 non-null       float64\n",
      " 19  BV              724 non-null     float64\n",
      " 20  UB              697 non-null     float64\n",
      " 21  IR              0 non-null       float64\n",
      " 22  spec_B          960 non-null     object \n",
      " 23  spec_T          698 non-null     object \n",
      " 24  neo             100000 non-null  object \n",
      " 25  pha             100000 non-null  object \n",
      " 26  moid            100000 non-null  float64\n",
      "dtypes: float64(19), int64(1), object(7)\n",
      "memory usage: 20.6+ MB\n"
     ]
    },
    {
     "name": "stderr",
     "output_type": "stream",
     "text": [
      "C:\\Users\\maxho\\AppData\\Local\\Temp\\ipykernel_9984\\2000030614.py:1: DtypeWarning: Columns (14,15) have mixed types. Specify dtype option on import or set low_memory=False.\n"
     ]
    }
   ],
   "source": [
    "train_data = pd.read_csv('asteroidTrain.csv') \n",
    "train_data.info()"
   ]
  },
  {
   "cell_type": "code",
   "execution_count": 48,
   "metadata": {},
   "outputs": [
    {
     "name": "stdout",
     "output_type": "stream",
     "text": [
      "              a         e          i          om           w         q  \\\n",
      "0      3.069866  0.184417   3.620920  308.458533  249.570070  2.503729   \n",
      "1      2.386539  0.104566  13.003513  105.866881  329.104052  2.136988   \n",
      "2      3.018175  0.084529  14.247933  245.449168  115.242451  2.763053   \n",
      "3      2.793049  0.290215  16.677722   17.862425  287.769691  1.982465   \n",
      "4      2.721394  0.098602   1.975506  271.706257  248.448520  2.453059   \n",
      "...         ...       ...        ...         ...         ...       ...   \n",
      "99994  2.758028  0.092627   1.994054  173.649449  216.612757  2.502559   \n",
      "99996  2.715932  0.239266  16.789523   34.531718   44.097353  2.066102   \n",
      "99997  3.188786  0.278970  15.177104  188.342499  255.934423  2.299209   \n",
      "99998  2.754535  0.106028   8.758664  230.483443   34.567890  2.462477   \n",
      "99999  3.940892  0.241022   9.495628  192.657992  197.808221  2.991051   \n",
      "\n",
      "             ad     per_y  data_arc  condition_code  n_obs_used     H  \\\n",
      "0      3.636003  5.378824    6803.0             0.0         614  14.6   \n",
      "1      2.636089  3.686897    7672.0             0.0        1247  14.7   \n",
      "2      3.273297  5.243544    5904.0             0.0         181  15.6   \n",
      "3      3.603633  4.667948   25107.0             0.0         955  14.0   \n",
      "4      2.989728  4.489472    8027.0             0.0         251  16.4   \n",
      "...         ...       ...       ...             ...         ...   ...   \n",
      "99994  3.013496  4.580428    8978.0             0.0         878  14.9   \n",
      "99996  3.365761  4.475963    6595.0             0.0         201  16.1   \n",
      "99997  4.078363  5.694376    5377.0             0.0         141  15.8   \n",
      "99998  3.046593  4.571730    7973.0             0.0         835  15.0   \n",
      "99999  4.890732  7.823479   17141.0             0.0        2036  10.8   \n",
      "\n",
      "       diameter  albedo  neo  pha     moid  \n",
      "0         6.611   0.070    0    0  1.50522  \n",
      "1         4.255   0.170    0    0  1.16197  \n",
      "2         5.625   0.024    0    0  1.79743  \n",
      "3         4.224   0.324    0    0  1.04034  \n",
      "4         3.525   0.043    0    0  1.46299  \n",
      "...         ...     ...  ...  ...      ...  \n",
      "99994     3.356   0.157    0    0  1.50731  \n",
      "99996     4.724   0.055    0    0  1.11044  \n",
      "99997     4.148   0.059    0    0  1.36906  \n",
      "99998     2.749   0.177    0    0  1.45246  \n",
      "99999    35.679   0.067    0    0  1.99740  \n",
      "\n",
      "[98837 rows x 17 columns]\n"
     ]
    },
    {
     "name": "stderr",
     "output_type": "stream",
     "text": [
      "C:\\Users\\maxho\\AppData\\Local\\Temp\\ipykernel_9984\\3203234487.py:2: DtypeWarning: Columns (14,15) have mixed types. Specify dtype option on import or set low_memory=False.\n"
     ]
    }
   ],
   "source": [
    "#importamos los set de datos de evaluacion y de entrenamiento\n",
    "train_data = pd.read_csv('asteroidTrain.csv') \n",
    "train_data['diameter']=train_data['diameter'].astype(float)\n",
    "train_data.drop(['full_name','spec_B','spec_T','extent','GM','BV','UB','IR','rot_per','G'], axis=1, inplace=True)\n",
    "#cambiamos los N e Y de pha y neo a 0 y 1\n",
    "train_data['pha'] = train_data['pha'].replace(['N', 'Y'], [0, 1])\n",
    "train_data['neo'] = train_data['neo'].replace(['N', 'Y'], [0, 1])\n",
    "#borramos los nan \n",
    "train_data.dropna(inplace=True)\n",
    "\n",
    "#printeamos los primeros datos\n",
    "print(train_data)"
   ]
  },
  {
   "cell_type": "markdown",
   "metadata": {},
   "source": [
    "Para poder trabajar de buena manera con la información entregada es necesario eliminar la columna full_name ya que es solo un identificador de los asteroides que nos estorba al no ser un float. \n",
    "Con el fin de limpiar los datos, eliminamos las columnas que no tienen datos (NaN) para poder predecir sin que los datos (o falta de datos) afecten la predicción . Con esto se eliminan las columnas G, data_arc, H, extent, albedo, rot_per, GM, BV, UB, IR, spec_B, spec_T y moid.\n",
    "\n",
    "Además, aplicamos one hot encoder para las variables categóricas neo y pha. De esta manera podemos trabajar en nuestro modelo con esta información.\n",
    "\n",
    "Analizando las demás variables, estimamos que n_obs_used, condition_code y per_y no son relevantes para la predicción del diámetro de asteroides pues n_obs_used es el número de observaciones utilizadas, mientras que condition_code y per_y están relacionado con características del orbital del asteroide.\n"
   ]
  },
  {
   "cell_type": "markdown",
   "metadata": {},
   "source": [
    "Para entrenar el modelo utilizamos MLPRegressor ya que lo que queremos predecir es numérico, por lo que una clasificación no serviría. \n",
    "\n",
    "De hiperparámetros utilizamos 10 neuronas (hidden_layer_sizes), un learning rate de 0.001 y 50 épocas, con batch_size auto lo que significa que es min(200, n_samples)\n",
    "\n",
    "La razón por la que se escogieron estos números para los hiperparámetros es que...\n"
   ]
  },
  {
   "cell_type": "markdown",
   "metadata": {},
   "source": [
    "Al ser netamente variables numericas no hay que modificarlas en el sentido de que hay que hacer alguna trasnformacion a los datos."
   ]
  },
  {
   "cell_type": "code",
   "execution_count": 49,
   "metadata": {},
   "outputs": [
    {
     "data": {
      "text/html": [
       "<style>#sk-container-id-4 {color: black;background-color: white;}#sk-container-id-4 pre{padding: 0;}#sk-container-id-4 div.sk-toggleable {background-color: white;}#sk-container-id-4 label.sk-toggleable__label {cursor: pointer;display: block;width: 100%;margin-bottom: 0;padding: 0.3em;box-sizing: border-box;text-align: center;}#sk-container-id-4 label.sk-toggleable__label-arrow:before {content: \"▸\";float: left;margin-right: 0.25em;color: #696969;}#sk-container-id-4 label.sk-toggleable__label-arrow:hover:before {color: black;}#sk-container-id-4 div.sk-estimator:hover label.sk-toggleable__label-arrow:before {color: black;}#sk-container-id-4 div.sk-toggleable__content {max-height: 0;max-width: 0;overflow: hidden;text-align: left;background-color: #f0f8ff;}#sk-container-id-4 div.sk-toggleable__content pre {margin: 0.2em;color: black;border-radius: 0.25em;background-color: #f0f8ff;}#sk-container-id-4 input.sk-toggleable__control:checked~div.sk-toggleable__content {max-height: 200px;max-width: 100%;overflow: auto;}#sk-container-id-4 input.sk-toggleable__control:checked~label.sk-toggleable__label-arrow:before {content: \"▾\";}#sk-container-id-4 div.sk-estimator input.sk-toggleable__control:checked~label.sk-toggleable__label {background-color: #d4ebff;}#sk-container-id-4 div.sk-label input.sk-toggleable__control:checked~label.sk-toggleable__label {background-color: #d4ebff;}#sk-container-id-4 input.sk-hidden--visually {border: 0;clip: rect(1px 1px 1px 1px);clip: rect(1px, 1px, 1px, 1px);height: 1px;margin: -1px;overflow: hidden;padding: 0;position: absolute;width: 1px;}#sk-container-id-4 div.sk-estimator {font-family: monospace;background-color: #f0f8ff;border: 1px dotted black;border-radius: 0.25em;box-sizing: border-box;margin-bottom: 0.5em;}#sk-container-id-4 div.sk-estimator:hover {background-color: #d4ebff;}#sk-container-id-4 div.sk-parallel-item::after {content: \"\";width: 100%;border-bottom: 1px solid gray;flex-grow: 1;}#sk-container-id-4 div.sk-label:hover label.sk-toggleable__label {background-color: #d4ebff;}#sk-container-id-4 div.sk-serial::before {content: \"\";position: absolute;border-left: 1px solid gray;box-sizing: border-box;top: 0;bottom: 0;left: 50%;z-index: 0;}#sk-container-id-4 div.sk-serial {display: flex;flex-direction: column;align-items: center;background-color: white;padding-right: 0.2em;padding-left: 0.2em;position: relative;}#sk-container-id-4 div.sk-item {position: relative;z-index: 1;}#sk-container-id-4 div.sk-parallel {display: flex;align-items: stretch;justify-content: center;background-color: white;position: relative;}#sk-container-id-4 div.sk-item::before, #sk-container-id-4 div.sk-parallel-item::before {content: \"\";position: absolute;border-left: 1px solid gray;box-sizing: border-box;top: 0;bottom: 0;left: 50%;z-index: -1;}#sk-container-id-4 div.sk-parallel-item {display: flex;flex-direction: column;z-index: 1;position: relative;background-color: white;}#sk-container-id-4 div.sk-parallel-item:first-child::after {align-self: flex-end;width: 50%;}#sk-container-id-4 div.sk-parallel-item:last-child::after {align-self: flex-start;width: 50%;}#sk-container-id-4 div.sk-parallel-item:only-child::after {width: 0;}#sk-container-id-4 div.sk-dashed-wrapped {border: 1px dashed gray;margin: 0 0.4em 0.5em 0.4em;box-sizing: border-box;padding-bottom: 0.4em;background-color: white;}#sk-container-id-4 div.sk-label label {font-family: monospace;font-weight: bold;display: inline-block;line-height: 1.2em;}#sk-container-id-4 div.sk-label-container {text-align: center;}#sk-container-id-4 div.sk-container {/* jupyter's `normalize.less` sets `[hidden] { display: none; }` but bootstrap.min.css set `[hidden] { display: none !important; }` so we also need the `!important` here to be able to override the default hidden behavior on the sphinx rendered scikit-learn.org. See: https://github.com/scikit-learn/scikit-learn/issues/21755 */display: inline-block !important;position: relative;}#sk-container-id-4 div.sk-text-repr-fallback {display: none;}</style><div id=\"sk-container-id-4\" class=\"sk-top-container\"><div class=\"sk-text-repr-fallback\"><pre>MLPRegressor(hidden_layer_sizes=(10,), max_iter=50)</pre><b>In a Jupyter environment, please rerun this cell to show the HTML representation or trust the notebook. <br />On GitHub, the HTML representation is unable to render, please try loading this page with nbviewer.org.</b></div><div class=\"sk-container\" hidden><div class=\"sk-item\"><div class=\"sk-estimator sk-toggleable\"><input class=\"sk-toggleable__control sk-hidden--visually\" id=\"sk-estimator-id-4\" type=\"checkbox\" checked><label for=\"sk-estimator-id-4\" class=\"sk-toggleable__label sk-toggleable__label-arrow\">MLPRegressor</label><div class=\"sk-toggleable__content\"><pre>MLPRegressor(hidden_layer_sizes=(10,), max_iter=50)</pre></div></div></div></div></div>"
      ],
      "text/plain": [
       "MLPRegressor(hidden_layer_sizes=(10,), max_iter=50)"
      ]
     },
     "execution_count": 49,
     "metadata": {},
     "output_type": "execute_result"
    }
   ],
   "source": [
    "#Creando y entrenando un modelo\n",
    "from sklearn.neural_network import MLPRegressor\n",
    "#creamos el traindata sin la columna de diametro\n",
    "train_data_sin_diameter = train_data.drop(['diameter'], axis=1)\n",
    "#creamos el modelo\n",
    "modelo = MLPRegressor(hidden_layer_sizes=(10,),batch_size='auto',learning_rate_init=0.001,max_iter=50)\n",
    "#hacemos un fit a los datos de entrenamiento\n",
    "modelo.fit(train_data_sin_diameter, train_data['diameter'])\n"
   ]
  },
  {
   "cell_type": "code",
   "execution_count": 24,
   "metadata": {},
   "outputs": [
    {
     "name": "stdout",
     "output_type": "stream",
     "text": [
      "Función de activicación de salida identity\n",
      "Error de entrenamiento final: 37.087103792564385\n",
      "Mejor error de entrenamiento: 37.051375950292176\n"
     ]
    }
   ],
   "source": [
    "print(\"Función de activicación de salida\",modelo.out_activation_)\n",
    "#Error final del modelo (entrenamiento)\n",
    "print(\"Error de entrenamiento final:\",modelo.loss_)\n",
    "#Mejor error del modelo (entrenamiento)\n",
    "print(\"Mejor error de entrenamiento:\",modelo.best_loss_)"
   ]
  },
  {
   "cell_type": "code",
   "execution_count": 15,
   "metadata": {},
   "outputs": [
    {
     "data": {
      "image/png": "[encoded data removed]",
      "text/plain": [
       "<Figure size 640x480 with 1 Axes>"
      ]
     },
     "metadata": {},
     "output_type": "display_data"
    },
    {
     "data": {
      "text/plain": [
       "<ggplot: (150389126015)>"
      ]
     },
     "execution_count": 15,
     "metadata": {},
     "output_type": "execute_result"
    }
   ],
   "source": [
    "#Curva de aprendizaje\n",
    "tempDF=pd.DataFrame(modelo.loss_curve_,columns=[\"Error\"])\n",
    "tempDF[\"Epoca\"]=range(1,tempDF.shape[0]+1)\n",
    "ggplot(tempDF)+aes(x=\"Epoca\",y=\"Error\")+theme_bw()+geom_line()"
   ]
  },
  {
   "cell_type": "code",
   "execution_count": 21,
   "metadata": {},
   "outputs": [
    {
     "name": "stdout",
     "output_type": "stream",
     "text": [
      "              a         e          i          om           w         q  \\\n",
      "0      3.969733  0.082587   6.263280  159.529531  338.904665  3.641886   \n",
      "1      2.262880  0.096618  22.340191   52.502912   87.172523  2.044245   \n",
      "2      3.072270  0.103533   9.503231  217.293949  191.020252  2.754189   \n",
      "3      2.766916  0.208954  10.208236  161.123803  188.856431  2.188758   \n",
      "4      2.361788  0.259924   9.486384  100.768260  231.685109  1.747903   \n",
      "...         ...       ...        ...         ...         ...       ...   \n",
      "37676  3.948805  0.121336  12.100826  176.921861  253.018391  3.469671   \n",
      "37677  2.985065  0.085091   9.437864  165.845432   49.880238  2.731062   \n",
      "37678  2.250727  0.146572   4.952574  136.066108  218.906512  1.920834   \n",
      "37679  2.692312  0.182102  14.004905  177.379901   92.464686  2.202038   \n",
      "37680  2.976344  0.086984  12.570232   90.159809  275.399609  2.717450   \n",
      "\n",
      "             ad  neo  pha      moid  \n",
      "0      4.297579    0    0  2.656530  \n",
      "1      2.481515    0    0  1.174060  \n",
      "2      3.390352    0    0  1.763990  \n",
      "3      3.345075    0    0  1.182110  \n",
      "4      2.975672    0    0  0.753967  \n",
      "...         ...  ...  ...       ...  \n",
      "37676  4.427939    0    0  2.510560  \n",
      "37677  3.239067    0    0  1.737330  \n",
      "37678  2.580621    0    0  0.917571  \n",
      "37679  3.182587    0    0  1.240040  \n",
      "37680  3.235237    0    0  1.752340  \n",
      "\n",
      "[37681 rows x 10 columns]\n"
     ]
    },
    {
     "name": "stderr",
     "output_type": "stream",
     "text": [
      "C:\\Users\\maxho\\AppData\\Local\\Temp\\ipykernel_9984\\306292867.py:2: DtypeWarning: Columns (14) have mixed types. Specify dtype option on import or set low_memory=False.\n"
     ]
    }
   ],
   "source": [
    "#importamos los set de datos de evaluacion y de entrenamiento\n",
    "Eval_data = pd.read_csv('asteroidEval.csv') \n",
    "\n",
    "Eval_data.drop(['n_obs_used','condition_code','per_y','full_name'], axis=1, inplace=True)\n",
    "\n",
    "Eval_data['pha'] = Eval_data['pha'].replace(['N', 'Y'], [0, 1])\n",
    "Eval_data['neo'] = Eval_data['neo'].replace(['N', 'Y'], [0, 1])\n",
    "Eval_data = Eval_data.dropna(axis=1)\n",
    "\n",
    "#printeamos los primeros datos\n",
    "print(Eval_data)"
   ]
  },
  {
   "cell_type": "code",
   "execution_count": 22,
   "metadata": {},
   "outputs": [
    {
     "name": "stdout",
     "output_type": "stream",
     "text": [
      "[5.36164816 2.97856777 6.72564595 ... 5.97699157 5.43316538 9.7961408 ]\n"
     ]
    }
   ],
   "source": [
    "#ocupamos el modelo para predecir el diametro de un asteroide\n",
    "print(modelo.predict(train_data_sin_diameter))\n",
    "X = modelo.predict(Eval_data)\n",
    "#cree un csv de una sola columna con la variable X\n",
    "X = pd.DataFrame(X)\n",
    "X.to_csv('X.csv', index=False, header=False)\n",
    "\n"
   ]
  }
 ],
 "metadata": {
  "kernelspec": {
   "display_name": "Python 3.10.5 64-bit (windows store)",
   "language": "python",
   "name": "python3"
  },
  "language_info": {
   "codemirror_mode": {
    "name": "ipython",
    "version": 3
   },
   "file_extension": ".py",
   "mimetype": "text/x-python",
   "name": "python",
   "nbconvert_exporter": "python",
   "pygments_lexer": "ipython3",
   "version": "3.10.5"
  },
  "vscode": {
   "interpreter": {
    "hash": "ce9167334efd97c5211d8924556d23bacc4aa06d7638842b4b7313cc4f840c3a"
   }
  }
 },
 "nbformat": 4,
 "nbformat_minor": 4
}
